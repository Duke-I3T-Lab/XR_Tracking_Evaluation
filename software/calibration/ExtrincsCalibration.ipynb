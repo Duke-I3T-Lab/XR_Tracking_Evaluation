{
 "cells": [
  {
   "cell_type": "code",
   "execution_count": 1,
   "id": "25322d39",
   "metadata": {
    "scrolled": true
   },
   "outputs": [],
   "source": [
    "import os\n",
    "import time\n",
    "\n",
    "import utils\n",
    "\n",
    "import numpy as np\n",
    "\n",
    "from evo.core import metrics\n",
    "from evo.tools.file_interface import read_tum_trajectory_file\n",
    "from evo.core import sync\n",
    "from evo.tools import plot\n",
    "\n",
    "import copy\n",
    "\n",
    "from scipy.spatial.transform import Rotation as R\n",
    "\n",
    "import matplotlib.pyplot as plt\n",
    "#%matplotlib inline\n",
    "%matplotlib tk\n",
    "\n",
    "import multiprocessing as mp\n",
    "from functools import partial\n",
    "import itertools\n",
    "\n",
    "import pprint"
   ]
  },
  {
   "cell_type": "code",
   "execution_count": 2,
   "id": "8282050a",
   "metadata": {},
   "outputs": [],
   "source": [
    "device='AppleVisionPro' #'XReal' # 'Quest3' # 'AVP'\n",
    "trajName = 'Calib'\n",
    "root_dir = f\"../CalibData/{device}/\"\n",
    "\n",
    "os.chdir(root_dir)\n",
    "root_dir = \".\""
   ]
  },
  {
   "cell_type": "markdown",
   "id": "7a47bfbe",
   "metadata": {},
   "source": [
    "## Load trajectories"
   ]
  },
  {
   "cell_type": "code",
   "execution_count": 3,
   "id": "31b93a9d",
   "metadata": {},
   "outputs": [],
   "source": [
    "def align_trajectory(traj_ref, traj_est, offset):\n",
    "    traj_est_aligned = copy.deepcopy(traj_est)\n",
    "    traj_ref_aligned = copy.deepcopy(traj_ref)\n",
    "    traj_ref_aligned, traj_est_aligned = sync.associate_trajectories(traj_ref_aligned, traj_est_aligned, \n",
    "                                                                  max_diff=0.05, \n",
    "                                                                  offset_2=offset)\n",
    "    \n",
    "    traj_est_aligned.align(traj_ref_aligned, correct_scale=False, correct_only_scale=False)#, n=n)\n",
    "    return traj_ref_aligned, traj_est_aligned"
   ]
  },
  {
   "cell_type": "code",
   "execution_count": 4,
   "id": "a707015c",
   "metadata": {},
   "outputs": [],
   "source": [
    "def prepare_traj_pair(traj_gt, traj_xr, offset=0):\n",
    "    traj_gt = utils.check_monotionic_increaseing(traj_gt)\n",
    "    traj_gt = utils.check_gt_abnormal_traj(traj_gt, speed_threshold=2.75)\n",
    "    traj_xr = utils.check_monotionic_increaseing(traj_xr, type='xr')\n",
    "\n",
    "    traj_gt_cp, traj_xr_cp = align_trajectory(traj_gt, traj_xr, offset=offset)\n",
    "\n",
    "    fig = utils.plot_trajectory(traj_xr_cp, traj_gt_cp, \n",
    "                                benchmark=device, trajectory=trajName, trial=\"DirectAlign\", max_diff=0.05,\n",
    "                               downsample_rate=0.3)\n",
    "\n",
    "    return (traj_gt_cp, traj_xr_cp)"
   ]
  },
  {
   "cell_type": "code",
   "execution_count": null,
   "id": "ac1328d4",
   "metadata": {
    "scrolled": true
   },
   "outputs": [
    {
     "name": "stdout",
     "output_type": "stream",
     "text": [
      "gt - found 0 non-monotonic increasing rows\n",
      "gt - found 0 abnormal_step_rows\n",
      "xr - found 0 non-monotonic increasing rows\n"
     ]
    }
   ],
   "source": [
    "traj_pair_list = []\n",
    "\n",
    "traj_gt = read_tum_trajectory_file(\"./Calib/gt.csv\")\n",
    "traj_xr = read_tum_trajectory_file(\"./Calib/xr.csv\")\n",
    "traj_pair_list.append(prepare_traj_pair(traj_gt, traj_xr, offset=0))"
   ]
  },
  {
   "cell_type": "markdown",
   "id": "ffe50ad0-078e-48dc-9819-ef08aba04c79",
   "metadata": {},
   "source": [
    "# Calculate extrincis calibration transformation"
   ]
  },
  {
   "cell_type": "code",
   "execution_count": null,
   "id": "e9d51203",
   "metadata": {},
   "outputs": [
    {
     "data": {
      "text/plain": [
       "array([[1., 0., 0., 0.],\n",
       "       [0., 1., 0., 0.],\n",
       "       [0., 0., 1., 0.],\n",
       "       [0., 0., 0., 1.]])"
      ]
     },
     "execution_count": 9,
     "metadata": {},
     "output_type": "execute_result"
    }
   ],
   "source": [
    "extrinsic_transform = np.eye(4)\n",
    "extrinsic_transform"
   ]
  },
  {
   "cell_type": "code",
   "execution_count": null,
   "id": "b8cebb1e",
   "metadata": {},
   "outputs": [],
   "source": [
    "for i, traj_pair in enumerate(traj_pair_list):\n",
    "    traj_gt_cp, traj_xr_cp = traj_pair[0], traj_pair[1]\n",
    "    traj_gt_rotate = copy.deepcopy(traj_gt_cp)\n",
    "    traj_gt_rotate.transform(t=extrinsic_transform, right_mul=True, propagate=False)\n",
    "\n",
    "    utils.plot_trajectory(traj_xr_cp, traj_gt_rotate, \n",
    "                          benchmark=device, trajectory=trajName, trial=\"AppliedRotation\", downsample_rate=0.1)"
   ]
  },
  {
   "cell_type": "code",
   "execution_count": null,
   "id": "1212e458",
   "metadata": {},
   "outputs": [],
   "source": [
    "def perform_xyz_transform(traj_gt, extrinsic_transform, x, y, z):\n",
    "    transformation_matrix_test = copy.deepcopy(extrinsic_transform)\n",
    "    transformation_matrix_test[0,3] = x\n",
    "    transformation_matrix_test[1,3] = y\n",
    "    transformation_matrix_test[2,3] = z\n",
    "\n",
    "    traj_gt_align_test = copy.deepcopy(traj_gt)\n",
    "    traj_gt_align_test.transform(t=transformation_matrix_test, right_mul=True, propagate=False)\n",
    "    return traj_gt_align_test, transformation_matrix_test"
   ]
  },
  {
   "cell_type": "code",
   "execution_count": null,
   "id": "cb639714",
   "metadata": {},
   "outputs": [],
   "source": [
    "def perform_xyz_transform_ape(x, y, z, traj_pair_list, extrinsic_transform):\n",
    "    transformation_matrix_test = copy.deepcopy(extrinsic_transform)\n",
    "    transformation_matrix_test[0,3] = x\n",
    "    transformation_matrix_test[1,3] = y\n",
    "    transformation_matrix_test[2,3] = z\n",
    "\n",
    "    ape_list = []\n",
    "    total_length = 0\n",
    "    for i, traj_pair in enumerate(traj_pair_list):\n",
    "        traj_gt_cp, traj_xr_cp = traj_pair[0], traj_pair[1]\n",
    "        traj_gt_align = copy.deepcopy(traj_gt_cp)\n",
    "        traj_gt_align.transform(t=transformation_matrix_test, right_mul=True, propagate=False)\n",
    "        traj_gt_align, traj_xr_cp = align_trajectory(traj_gt_align, traj_xr_cp, offset=0)\n",
    "        ape_metric = utils.calculate_APE(traj_xr_cp, traj_gt_align, est_offset=0)\n",
    "        ape = ape_metric.get_statistic(metrics.StatisticsType.rmse)\n",
    "        ape_list.append(ape*traj_gt_cp.num_poses)\n",
    "        total_length += traj_gt_cp.num_poses\n",
    "\n",
    "    avg_ape = np.sum(ape_list)/total_length\n",
    "    return avg_ape\n",
    "\n",
    "\n",
    "def parallel_compute(x_array, y_array, z_array, traj_pair_list, extrinsic_transform):\n",
    "    # Create a partial function with the constant arguments\n",
    "    partial_compute = partial(perform_xyz_transform_ape, traj_pair_list=traj_pair_list, extrinsic_transform=extrinsic_transform)\n",
    "    \n",
    "    # # Combine the individual x, y, z lists into a list of tuples\n",
    "    # inputs = list(zip(x_list, y_list, z_list))\n",
    "    # Generate all combinations of x, y, z using itertools.product\n",
    "    inputs = list(itertools.product(x_array, y_array, z_array))\n",
    "    \n",
    "    with mp.Pool(mp.cpu_count()) as pool:\n",
    "        # Use starmap with the partial function\n",
    "        results = pool.starmap(partial_compute, inputs)\n",
    "    \n",
    "    return results"
   ]
  },
  {
   "cell_type": "code",
   "execution_count": 13,
   "id": "d6ebbc5d-6521-4934-b060-9ae78a20bde6",
   "metadata": {},
   "outputs": [],
   "source": [
    "time.sleep(0.5)"
   ]
  },
  {
   "cell_type": "code",
   "execution_count": null,
   "id": "180ef4a5",
   "metadata": {},
   "outputs": [],
   "source": [
    "resolution = 11\n",
    "x_start, x_end = 0.05, 0.07\n",
    "y_start, y_end = 0.06, 0.08\n",
    "z_start, z_end = -0.15, -0.12\n",
    "#error_matrix = np.ones((resolution,resolution))\n",
    "x_array = np.linspace(x_start,x_end,resolution)\n",
    "y_array = np.linspace(y_start,y_end,resolution)\n",
    "z_array = np.linspace(z_start,z_end,resolution)\n",
    "\n",
    "# Perform parallel computation\n",
    "results = parallel_compute(x_array, y_array, z_array, traj_pair_list, extrinsic_transform)\n",
    "\n",
    "# Print the results\n",
    "# for (x, y, z), result in zip(itertools.product(x_array, y_array, z_array), results):\n",
    "#     print(f\"compute({x}, {y}, {z}, {constant1}, {constant2}) = {result}\")\n"
   ]
  },
  {
   "cell_type": "code",
   "execution_count": 41,
   "id": "29b4bc06",
   "metadata": {},
   "outputs": [
    {
     "name": "stdout",
     "output_type": "stream",
     "text": [
      "The combination of x, y, z that gives the minimum result is: (np.float64(0.060000000000000005), np.float64(0.07), np.float64(-0.132)) with a value of 0.010606281661926299\n"
     ]
    }
   ],
   "source": [
    "# Find the minimum result and its corresponding (x, y, z) values\n",
    "inputs = list(itertools.product(x_array, y_array, z_array))\n",
    "min_index = np.argmin(results)\n",
    "min_value = results[min_index]\n",
    "min_combination = inputs[min_index]\n",
    "# Print the result\n",
    "print(f\"The combination of x, y, z that gives the minimum result is: {min_combination} with a value of {min_value}\")"
   ]
  },
  {
   "cell_type": "code",
   "execution_count": null,
   "id": "53595fb0",
   "metadata": {},
   "outputs": [],
   "source": [
    "for i, traj_pair in enumerate(traj_pair_list):\n",
    "    traj_gt_cp, traj_xr_cp = traj_pair[0], traj_pair[1]\n",
    "    traj_gt_align = copy.deepcopy(traj_gt_cp)\n",
    "    #traj_gt_align.transform(t=extrinsic_transform, right_mul=True, propagate=False)\n",
    "    #plot_trajectory(traj_xr_cp, traj_gt_align, benchmark=None, trajectory=None, trial=None)\n",
    "\n",
    "    traj_gt_align_test, transformation_matrix_test = perform_xyz_transform(traj_gt_align, extrinsic_transform, \n",
    "                                                                        min_combination[0], min_combination[1], min_combination[2])\n",
    "    traj_gt_align_test, traj_xr_cp = align_trajectory(traj_gt_align_test, traj_xr_cp, offset=0)\n",
    "\n",
    "    utils.plot_trajectory(traj_xr_cp, traj_gt_align_test, benchmark=device, trajectory=trajName, trial=\"AppliedTransform\")"
   ]
  },
  {
   "cell_type": "code",
   "execution_count": 43,
   "id": "90c1aeae",
   "metadata": {},
   "outputs": [
    {
     "data": {
      "text/plain": [
       "array([[ 1.   ,  0.   ,  0.   ,  0.06 ],\n",
       "       [ 0.   ,  1.   ,  0.   ,  0.07 ],\n",
       "       [ 0.   ,  0.   ,  1.   , -0.132],\n",
       "       [ 0.   ,  0.   ,  0.   ,  1.   ]])"
      ]
     },
     "execution_count": 43,
     "metadata": {},
     "output_type": "execute_result"
    }
   ],
   "source": [
    "transformation_matrix_test"
   ]
  },
  {
   "cell_type": "code",
   "execution_count": 44,
   "id": "bfefd19f",
   "metadata": {},
   "outputs": [],
   "source": [
    "#utils.plot_trajectory(traj_xr_cp, traj_gt_align_test, benchmark=device, trajectory=trajName, trial=\"AppliedTransform\")"
   ]
  },
  {
   "cell_type": "code",
   "execution_count": 45,
   "id": "f1a730e6",
   "metadata": {},
   "outputs": [
    {
     "data": {
      "text/plain": [
       "np.float64(0.004309076899335913)"
      ]
     },
     "execution_count": 45,
     "metadata": {},
     "output_type": "execute_result"
    }
   ],
   "source": [
    "rpe = utils.calculate_RE(traj_xr_cp, traj_gt_align_test, est_offset=0)\n",
    "np.mean(rpe.error)"
   ]
  },
  {
   "cell_type": "code",
   "execution_count": 46,
   "id": "72b47f92-584f-4d61-b451-052a5fbaa387",
   "metadata": {},
   "outputs": [],
   "source": [
    "ape_metric = utils.calculate_APE(traj_xr_cp, traj_gt, est_offset=0)"
   ]
  },
  {
   "cell_type": "code",
   "execution_count": 47,
   "id": "524b584f-67a6-4207-9ff4-f86911290e9e",
   "metadata": {},
   "outputs": [
    {
     "data": {
      "text/plain": [
       "0.16123140051275742"
      ]
     },
     "execution_count": 47,
     "metadata": {},
     "output_type": "execute_result"
    }
   ],
   "source": [
    "ape_metric.get_statistic(metrics.StatisticsType.rmse)"
   ]
  },
  {
   "cell_type": "code",
   "execution_count": 48,
   "id": "833206da",
   "metadata": {},
   "outputs": [],
   "source": [
    "ape_metric = utils.calculate_APE(traj_xr_cp, traj_gt_align_test, est_offset=0)"
   ]
  },
  {
   "cell_type": "code",
   "execution_count": 49,
   "id": "f322cc71",
   "metadata": {},
   "outputs": [
    {
     "data": {
      "text/plain": [
       "0.010606281661926299"
      ]
     },
     "execution_count": 49,
     "metadata": {},
     "output_type": "execute_result"
    }
   ],
   "source": [
    "ape_metric.get_statistic(metrics.StatisticsType.rmse)"
   ]
  },
  {
   "cell_type": "code",
   "execution_count": 50,
   "id": "363f9c78",
   "metadata": {},
   "outputs": [],
   "source": [
    "result_np = np.array(results).reshape((resolution, resolution, resolution))"
   ]
  },
  {
   "cell_type": "code",
   "execution_count": 51,
   "id": "77493aeb",
   "metadata": {},
   "outputs": [],
   "source": [
    "# Find the indices of the given number\n",
    "x_index = np.where(x_array == min_combination[0])[0][0]\n",
    "y_index = np.where(y_array == min_combination[1])[0][0]\n",
    "z_index = np.where(z_array == min_combination[2])[0][0]\n"
   ]
  },
  {
   "cell_type": "code",
   "execution_count": 52,
   "id": "081d060b",
   "metadata": {},
   "outputs": [
    {
     "name": "stderr",
     "output_type": "stream",
     "text": [
      "/home/i3t-sigma/miniconda3/envs/xreva/lib/python3.13/tkinter/__init__.py:862: UserWarning: constrained_layout not applied because axes sizes collapsed to zero.  Try making figure larger or Axes decorations smaller.\n",
      "  func(*args)\n"
     ]
    }
   ],
   "source": [
    "plt.figure()\n",
    "plt.plot(result_np[:, y_index, z_index], label=\"x-axis\")\n",
    "plt.plot(result_np[x_index, :, z_index], label=\"y-axis\")\n",
    "plt.plot(result_np[x_index, y_index, :], label=\"z-axis\")\n",
    "plt.legend()\n",
    "plt.show()"
   ]
  }
 ],
 "metadata": {
  "kernelspec": {
   "display_name": "xreva",
   "language": "python",
   "name": "python3"
  },
  "language_info": {
   "codemirror_mode": {
    "name": "ipython",
    "version": 3
   },
   "file_extension": ".py",
   "mimetype": "text/x-python",
   "name": "python",
   "nbconvert_exporter": "python",
   "pygments_lexer": "ipython3",
   "version": "3.13.2"
  }
 },
 "nbformat": 4,
 "nbformat_minor": 5
}
